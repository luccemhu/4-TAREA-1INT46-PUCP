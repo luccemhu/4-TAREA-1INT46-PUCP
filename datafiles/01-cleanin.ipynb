{
 "cells": [
  {
   "cell_type": "code",
   "execution_count": 9,
   "id": "0c8ec98f-671e-4431-b29f-2cf16bdeceac",
   "metadata": {},
   "outputs": [
    {
     "name": "stdout",
     "output_type": "stream",
     "text": [
      "Conversión completa.\n"
     ]
    }
   ],
   "source": [
    "import pandas as pd\n",
    "\n",
    "# Cargar el CSV\n",
    "df = pd.read_excel('fallecidos.xlsx')\n",
    "\n",
    "# Convertirlo y guardarlo como archivo PKL\n",
    "df.to_pickle('fallecidos_covid.pkl')\n",
    "\n",
    "print(\"Conversión completa.\")\n"
   ]
  },
  {
   "cell_type": "code",
   "execution_count": 5,
   "id": "b879558c",
   "metadata": {},
   "outputs": [
    {
     "name": "stdout",
     "output_type": "stream",
     "text": [
      "<class 'pandas.core.frame.DataFrame'>\n",
      "RangeIndex: 220918 entries, 0 to 220917\n",
      "Data columns (total 5 columns):\n",
      " #   Column               Non-Null Count   Dtype \n",
      "---  ------               --------------   ----- \n",
      " 0   FECHA_FALLECIMIENTO  220918 non-null  int64 \n",
      " 1   EDAD_DECLARADA       220918 non-null  int64 \n",
      " 2   SEXO                 220918 non-null  object\n",
      " 3   DEPARTAMENTO         220918 non-null  object\n",
      " 4   PROVINCIA            220913 non-null  object\n",
      "dtypes: int64(2), object(3)\n",
      "memory usage: 8.4+ MB\n"
     ]
    }
   ],
   "source": [
    "# data table\n",
    "\n",
    "linkData=\"fallecidos.xlsx\"\n",
    "dengue = pd.read_excel(linkData)\n",
    "dengue.info()"
   ]
  }
 ],
 "metadata": {
  "kernelspec": {
   "display_name": "base",
   "language": "python",
   "name": "python3"
  },
  "language_info": {
   "codemirror_mode": {
    "name": "ipython",
    "version": 3
   },
   "file_extension": ".py",
   "mimetype": "text/x-python",
   "name": "python",
   "nbconvert_exporter": "python",
   "pygments_lexer": "ipython3",
   "version": "3.12.4"
  }
 },
 "nbformat": 4,
 "nbformat_minor": 5
}
