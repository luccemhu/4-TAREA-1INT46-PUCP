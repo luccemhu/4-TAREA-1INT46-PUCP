{
 "cells": [
  {
   "cell_type": "code",
   "execution_count": null,
   "id": "0c8ec98f-671e-4431-b29f-2cf16bdeceac",
   "metadata": {},
   "outputs": [],
   "source": [
    "import pandas as pd\n",
    "\n",
    "# Cargar el CSV\n",
    "df = pd.read_csv('fallecidos_covid.csv')\n",
    "\n",
    "# Convertirlo y guardarlo como archivo PKL\n",
    "df.to_pickle('fallecidos_covid.pkl')\n",
    "\n",
    "print(\"Conversión completa.\")\n"
   ]
  }
 ],
 "metadata": {
  "kernelspec": {
   "display_name": "Python 3 (ipykernel)",
   "language": "python",
   "name": "python3"
  },
  "language_info": {
   "codemirror_mode": {
    "name": "ipython",
    "version": 3
   },
   "file_extension": ".py",
   "mimetype": "text/x-python",
   "name": "python",
   "nbconvert_exporter": "python",
   "pygments_lexer": "ipython3",
   "version": "3.12.4"
  }
 },
 "nbformat": 4,
 "nbformat_minor": 5
}
